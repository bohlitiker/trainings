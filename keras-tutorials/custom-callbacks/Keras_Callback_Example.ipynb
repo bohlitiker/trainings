{
 "cells": [
  {
   "cell_type": "markdown",
   "metadata": {},
   "source": [
    "# Callbacks in Keras\n",
    "This short tutorial is based on the tutorial found [here](https://machinelearningmastery.com/tutorial-first-neural-network-python-keras/). Their code is a lot better documented. If you are new to Neural Networks and do not understand the basics of how they work, have a look at it, since this Tutorial focuses more on `Callbacks`."
   ]
  },
  {
   "cell_type": "code",
   "execution_count": null,
   "metadata": {},
   "outputs": [],
   "source": [
    "from numpy import loadtxt\n",
    "from keras.models import Sequential\n",
    "from keras.layers import Dense\n",
    "#importing the callback class\n",
    "from keras.callbacks import Callback\n",
    "import numpy as np"
   ]
  },
  {
   "cell_type": "code",
   "execution_count": null,
   "metadata": {},
   "outputs": [],
   "source": [
    "# load the dataset\n",
    "dataset = loadtxt('pima-indians-diabetes.csv', delimiter=',')\n",
    "# split into input (X) and output (y) variables\n",
    "X = dataset[:,0:8]\n",
    "y = dataset[:,8]\n",
    "train_test_split = int(len(X)*.7)\n",
    "X_train, X_test = X[:train_test_split], X[train_test_split:]\n",
    "y_train, y_test = y[:train_test_split], y[train_test_split:]"
   ]
  },
  {
   "cell_type": "code",
   "execution_count": null,
   "metadata": {},
   "outputs": [],
   "source": [
    "# define the keras model\n",
    "model = Sequential()\n",
    "model.add(Dense(12, input_dim=8, activation='relu'))\n",
    "model.add(Dense(8, activation='relu'))\n",
    "model.add(Dense(1, activation='sigmoid'))"
   ]
  },
  {
   "cell_type": "code",
   "execution_count": null,
   "metadata": {},
   "outputs": [],
   "source": [
    "# compile the keras model\n",
    "model.compile(loss='binary_crossentropy',\n",
    "              optimizer='adam',\n",
    "              metrics=['acc']\n",
    "              )"
   ]
  },
  {
   "cell_type": "markdown",
   "metadata": {},
   "source": [
    "# Callbacks\n",
    "\n",
    "The `Callback` class enables us to do operations at certain points of an epoch. These can be\n",
    "\n",
    "- at the start of each epoch\n",
    "- at the start of each batch\n",
    "- at the end of each batch\n",
    "- at the end of each epoch\n",
    "\n",
    "and more. But these are probably the most common points in a networks training cycle.\n",
    "\n",
    "The `Callback` class enables us to look at certain information (metrics) at the current point of the training process and make decisions accordingly. It is for example possible to look at the\n",
    "\n",
    "- training loss\n",
    "- training accuracy\n",
    "- validation loss\n",
    "- validation accuracy\n",
    "\n",
    "To see whether or not they are improving. Should they continuously get worse, a dedicated `Callback` could prematurely stop the training process.\n",
    "\n",
    "Other examplary uses are `Callbacks` that only save the model \n",
    "\n",
    "- with the best metrics\n",
    "- after each epoch and creates a file in which the metrics of each model are listed\n",
    "- every time the metrics improve\n",
    "\n",
    "These examples can of course also be combined. \n",
    "\n",
    "For this notebook, the second example is created. The other examples can be created accordingly.\n",
    "Official documentation on Callbacks can be found [here](https://keras.io/callbacks/)"
   ]
  },
  {
   "cell_type": "code",
   "execution_count": null,
   "metadata": {},
   "outputs": [],
   "source": [
    "#creating the class\n",
    "class ModelSaveCallback(Callback):\n",
    "    def __init__ (self):\n",
    "        #inheriting functionalities of the Callback class\n",
    "        super(Callback, self).__init__()\n",
    "        \n",
    "        #creating an attribute for all metrics. Can be used to save metrics from previous\n",
    "        #epochs for comparison\n",
    "        self.Metrics = []\n",
    "    \n",
    "    #method to be called at the end of an epoch. This is part of the original Callback class\n",
    "    #that is inherited.\n",
    "    def on_epoch_end(self, epoch, logs = {}):\n",
    "        #the argument \"logs\" contains all the information on the current epoch as a\n",
    "        #dictionary we ate only extracting the metrics here\n",
    "        currentMetrics = [logs.get('loss'), logs.get('acc'), logs.get('val_loss'), logs.get('val_acc')] \n",
    "        #overwriting the saved metrics\n",
    "        self.Metrics = currentMetrics\n",
    "        \n",
    "        #saving the model\n",
    "        #The model Attribute is automatically created by the original Callback class, so do\n",
    "        # not wonder that you did not create it manually yourself.\n",
    "        # Also the selected model for this attribute is always the one, this Callback class\n",
    "        # is passed to as an argument, which is done in one of the above cells. \n",
    "        self.model.save('models/model_epoch_%s.h5'%(str(epoch)))\n",
    "                        \n",
    "        #writing the metrics into a text file\n",
    "                        \n",
    "        #clear txt file during the zeroth epoch and write in the current metrics\n",
    "        if epoch == 0:\n",
    "            #the 'w' stand for writing. Everything else from the file is deleted beforehand\n",
    "            with open('model_metrics.txt', 'w') as file:\n",
    "                file.write('Results at Epoch %s: Loss %s, Acc %s, Val_Loss %s, Val_Acc %s\\n\\n'\n",
    "                           %(str(epoch),\n",
    "                             str(self.Metrics[0]),\n",
    "                            str(self.Metrics[1]),\n",
    "                            str(self.Metrics[2]),\n",
    "                            str(self.Metrics[3])))\n",
    "        else:\n",
    "            #the 'a' stands for append. The text is appended to the existing text in the file.\n",
    "            with open('model_metrics.txt', 'a') as file:\n",
    "                file.write('Results at Epoch %s: Loss %s, Acc %s, Val_Loss %s, Val_Acc %s\\n\\n'\n",
    "                           %(str(epoch),\n",
    "                             str(self.Metrics[0]),\n",
    "                            str(self.Metrics[1]),\n",
    "                            str(self.Metrics[2]),\n",
    "                            str(self.Metrics[3])))\n",
    "                "
   ]
  },
  {
   "cell_type": "markdown",
   "metadata": {},
   "source": [
    "## Fitting the model\n",
    "\n",
    "Things to do each time you train the network\n",
    "- delete all the saved models from the `models` directory`, since they will be overwritten\n"
   ]
  },
  {
   "cell_type": "code",
   "execution_count": null,
   "metadata": {
    "code_folding": []
   },
   "outputs": [],
   "source": [
    "# fit the keras model on the dataset\n",
    "#create instance of callback class and add to list of callbacks. Multiple callbacks can\n",
    "#be attached to a model\n",
    "saveModelCallback = ModelSaveCallback()\n",
    "model.fit(X_train,\n",
    "          y_train,\n",
    "          epochs = 150, \n",
    "          validation_split = .2,\n",
    "          shuffle = True,\n",
    "          batch_size = 10,\n",
    "          callbacks = [saveModelCallback])"
   ]
  },
  {
   "cell_type": "code",
   "execution_count": null,
   "metadata": {},
   "outputs": [],
   "source": [
    "# evaluate the keras model\n",
    "_, accuracy = model.evaluate(X_test, y_test)\n",
    "print('Accuracy: %.2f' % (accuracy*100))"
   ]
  },
  {
   "cell_type": "markdown",
   "metadata": {},
   "source": [
    "Now try changing the class `ModelSaveCallback` so that it only saves a model that fulfills the following criteria:\n",
    "- loss is lower than that of the last saved model\n",
    "- validation accuracy is higher than that of the last saved model\n",
    "\n",
    "Afterwards try playing around with the values you wish to observe and use for your decision-making regarding which model to save.\n",
    "\n",
    "**Answer below**\n",
    "\n",
    "The explanatory code from the original class if omitted."
   ]
  },
  {
   "cell_type": "code",
   "execution_count": null,
   "metadata": {},
   "outputs": [],
   "source": [
    "#creating the class\n",
    "class ModelSaveCallback_Task(Callback):\n",
    "    def __init__ (self):\n",
    "        #inheriting functionalities of the Callback class\n",
    "        super(Callback, self).__init__()\n",
    "        \n",
    "        #creating an attribute for all metrics. Can be used to save metrics from previous\n",
    "        #epochs for comparison\n",
    "        #initialize values for accuracy at 0 and for loss at infinity\n",
    "        self.Metrics = [np.Inf, 0.0, np.Inf, 0.0]\n",
    "    \n",
    "    #method to be called at the end of an epoch. This is part of the original Callback class\n",
    "    #that is inherited.\n",
    "    def on_epoch_end(self, epoch, logs = {}):\n",
    "\n",
    "        currentMetrics = [logs.get('loss'), logs.get('acc'), logs.get('val_loss'), logs.get('val_acc')] \n",
    "        \n",
    "        #check if conditions for saving are met\n",
    "        if float(currentMetrics[0]) < float(self.Metrics[0]) and float(currentMetrics[3]) > float(self.Metrics[3]): \n",
    "            self.model.save('models/model_epoch_%s.h5'%(str(epoch)))\n",
    "            #overwriting the saved metrics only if conditions are met\n",
    "            self.Metrics = currentMetrics\n",
    "        else:\n",
    "            #if the conditions are not met, the rest of the method is skipped\n",
    "            return\n",
    "                        \n",
    "        #since the metrics are initialized with the worst possible values, the first model will always be saved.\n",
    "        if epoch == 0:\n",
    "            #the 'w' stand for writing. Everything else from the file is deleted beforehand\n",
    "            with open('model_metrics.txt', 'w') as file:\n",
    "                file.write('Results at Epoch %s: Loss %s, Acc %s, Val_Loss %s, Val_Acc %s\\n\\n'\n",
    "                           %(str(epoch),\n",
    "                             str(self.Metrics[0]),\n",
    "                            str(self.Metrics[1]),\n",
    "                            str(self.Metrics[2]),\n",
    "                            str(self.Metrics[3])))\n",
    "        else:\n",
    "            #the 'a' stands for append. The text is appended to the existing text in the file.\n",
    "            with open('model_metrics.txt', 'a') as file:\n",
    "                file.write('Results at Epoch %s: Loss %s, Acc %s, Val_Loss %s, Val_Acc %s\\n\\n'\n",
    "                           %(str(epoch),\n",
    "                             str(self.Metrics[0]),\n",
    "                            str(self.Metrics[1]),\n",
    "                            str(self.Metrics[2]),\n",
    "                            str(self.Metrics[3])))\n",
    "                "
   ]
  },
  {
   "cell_type": "markdown",
   "metadata": {},
   "source": [
    "## Do not forget to clear the `models` directory before running the next cell"
   ]
  },
  {
   "cell_type": "code",
   "execution_count": null,
   "metadata": {},
   "outputs": [],
   "source": [
    "# fit the keras model on the dataset\n",
    "#create instance of callback class and add to list of callbacks. Multiple callbacks can\n",
    "#be attached to a model\n",
    "saveModelCallback = ModelSaveCallback_Task()\n",
    "model.fit(X_train,\n",
    "          y_train,\n",
    "          epochs = 150, \n",
    "          validation_split = .2,\n",
    "          shuffle = True,\n",
    "          batch_size = 10,\n",
    "          callbacks = [saveModelCallback])"
   ]
  }
 ],
 "metadata": {
  "kernelspec": {
   "display_name": "Python 3",
   "language": "python",
   "name": "python3"
  },
  "language_info": {
   "codemirror_mode": {
    "name": "ipython",
    "version": 3
   },
   "file_extension": ".py",
   "mimetype": "text/x-python",
   "name": "python",
   "nbconvert_exporter": "python",
   "pygments_lexer": "ipython3",
   "version": "3.6.10"
  }
 },
 "nbformat": 4,
 "nbformat_minor": 4
}
