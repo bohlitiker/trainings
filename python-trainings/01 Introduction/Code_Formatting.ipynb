{
 "cells": [
  {
   "cell_type": "markdown",
   "metadata": {},
   "source": [
    "# Code Formatting\n",
    "Everyone writes code differently. There are best practices on how to structure code, but in the end it is up to the programmer which practices to follow.<br>\n",
    "For this course the best practices will be summed up in the following notebook with examples for each case. It will cover:<br>\n",
    "- variables and arguments\n",
    "- functions and methods\n",
    "- classes and attributes\n",
    "- function and class descriptions"
   ]
  },
  {
   "cell_type": "markdown",
   "metadata": {},
   "source": [
    "## Naming Conventions\n",
    "The name of a variable or argument should explain what its purpose within the code is. They **MUST NOT** contain any spaces or lettres that are not part of the English alphabet. Therefore a different method to separate words within variable names has to be chosen.\n",
    "\n",
    "There are two best practices in programming for naming in general.<br>\n",
    "They are **UNDERSCORES** and **CAMELCASE**\n",
    "\n",
    "**Underscores** are exactly what it sounds like. If a variable name consists of two or more words, the words are separated by underscores.\n",
    "\n",
    "**camelCase** means that the beginning of each word of the variable name starts with a capital letter. The first letter of the name is **EXCLUDED** from this rule.<br>\n",
    "Variables that are not instances of classes **ALWAYS** start with a minor letter. Same goes for arguments."
   ]
  },
  {
   "cell_type": "code",
   "execution_count": 1,
   "metadata": {
    "code_folding": []
   },
   "outputs": [],
   "source": [
    "#examples underscore\n",
    "first_example = 1\n",
    "second_example = 2\n",
    "number_counter = 3\n",
    "#examples camelCase\n",
    "firstExample = 1\n",
    "secondExample = 2\n",
    "numberCounter = 3"
   ]
  },
  {
   "cell_type": "markdown",
   "metadata": {},
   "source": [
    "## Variables and Arguments\n",
    "In this course, **Underscores** are the naming method of choice for variable and arguments."
   ]
  },
  {
   "cell_type": "markdown",
   "metadata": {},
   "source": [
    "## Functions and Methods\n",
    "The naming rules for functions and methods generally follow the same as for variables. But since they are usually meant to do a certain task, their name should always be composed of a verb and a noun that explain what the task of the function or method is. The naming method for functions and methods in this course is **camelCase**."
   ]
  },
  {
   "cell_type": "code",
   "execution_count": 4,
   "metadata": {
    "code_folding": []
   },
   "outputs": [],
   "source": [
    "#example for a function\n",
    "def addNumbers():\n",
    "    pass\n",
    "\n",
    "#exmaple for a method\n",
    "def rotateWheelClockwise(self):\n",
    "    pass"
   ]
  },
  {
   "cell_type": "markdown",
   "metadata": {},
   "source": [
    "## Classes\n",
    "Classes are used to create objects with attributes and functionalities. Therefore their name should usually only consist of one word that describes their purpose.\n",
    "\n",
    "Class names start with a capital letter, as do their instance names and the class attribute names.<br>\n",
    "Descriptions are done the same way as for functions and methods.<br>\n",
    "The following is an example for a class called *Student* that can be used to create an instance of a university student called *Max*.<br>\n",
    "The attribute names also Start with a capital letter and the naming convention used is the underscore."
   ]
  },
  {
   "cell_type": "code",
   "execution_count": 9,
   "metadata": {},
   "outputs": [
    {
     "name": "stdout",
     "output_type": "stream",
     "text": [
      "12.12.1990\n"
     ]
    }
   ],
   "source": [
    "#Creating a class\n",
    "class Student:\n",
    "    def __init__(self, id_num, first_name, last_name, birthday, course, adress, num_of_semesters = 0):\n",
    "        #Class variables\n",
    "        self.ID_Num = id_num\n",
    "        self.First_Name = first_name\n",
    "        self.Last_Name = last_name\n",
    "        self.Birthday = birthday\n",
    "        self.Course = course\n",
    "        self.Adress = adress\n",
    "        self.Num_Of_Semesters = num_of_semesters\n",
    "\n",
    "#Creating an instance of a class\n",
    "Max = Student(id_num = 120,\n",
    "             first_name = 'Max',\n",
    "             last_name = 'Mustermann',\n",
    "             birthday = '12.12.1990',\n",
    "             course = 'Engineering B.Eng.',\n",
    "             adress = 'John Doe Street 1')\n",
    "\n",
    "print(Max.Birthday)"
   ]
  },
  {
   "cell_type": "markdown",
   "metadata": {},
   "source": [
    "## Descriptions\n",
    "For other programmers to better understand code functions, methods and classes usually contain descriptions that can be accessed through IPython's **help** function.<br>\n",
    "This kind of description is written directly underneath the *definition* line.<br>\n",
    "An example is presented below."
   ]
  },
  {
   "cell_type": "code",
   "execution_count": 7,
   "metadata": {},
   "outputs": [],
   "source": [
    "def doStuff(arg1, arg2 = 0):\n",
    "    '''This function performs a certain action and requires certain arguments.\\n\n",
    "    -------ARGUMENTS-------\n",
    "    arg1(int) -> contains this information\n",
    "    arg2(int) -> contains that information --> default = 0\\n\n",
    "    -------RETURN VALUE-------\n",
    "    a(int) -> contains new information\n",
    "    b(str) -> contains more information'''\n",
    "    a = 1\n",
    "    b = 'Hello'\n",
    "    return a, b\n",
    "\n",
    "class Person:\n",
    "    '''This class creates a person.\\n\n",
    "    -------ARGUMENTS-------\n",
    "    arg1(int) -> contains this information\n",
    "    arg2(str) -> contains that information\\n\n",
    "    -------ATTRIBUTES-------\n",
    "    Attribute1(int) -> contains instance characteristic\n",
    "    Attribute2(str) -> contains instance characteristic'''\n",
    "    def __init__(self, arg1, arg2):\n",
    "        self.Attribute1 = arg1\n",
    "        self.Attribute2 = arg2"
   ]
  },
  {
   "cell_type": "markdown",
   "metadata": {},
   "source": [
    "The `\\n` character-sequence creates a linebreak."
   ]
  }
 ],
 "metadata": {
  "kernelspec": {
   "display_name": "Python 3",
   "language": "python",
   "name": "python3"
  },
  "language_info": {
   "codemirror_mode": {
    "name": "ipython",
    "version": 3
   },
   "file_extension": ".py",
   "mimetype": "text/x-python",
   "name": "python",
   "nbconvert_exporter": "python",
   "pygments_lexer": "ipython3",
   "version": "3.7.6"
  },
  "varInspector": {
   "cols": {
    "lenName": "16",
    "lenType": 16,
    "lenVar": 40
   },
   "kernels_config": {
    "python": {
     "delete_cmd_postfix": "",
     "delete_cmd_prefix": "del ",
     "library": "var_list.py",
     "varRefreshCmd": "print(var_dic_list())"
    },
    "r": {
     "delete_cmd_postfix": ") ",
     "delete_cmd_prefix": "rm(",
     "library": "var_list.r",
     "varRefreshCmd": "cat(var_dic_list()) "
    }
   },
   "oldHeight": 184.383334,
   "position": {
    "height": "205.85px",
    "left": "1173px",
    "right": "20px",
    "top": "145px",
    "width": "486.533px"
   },
   "types_to_exclude": [
    "module",
    "function",
    "builtin_function_or_method",
    "instance",
    "_Feature"
   ],
   "varInspector_section_display": "block",
   "window_display": false
  }
 },
 "nbformat": 4,
 "nbformat_minor": 2
}
