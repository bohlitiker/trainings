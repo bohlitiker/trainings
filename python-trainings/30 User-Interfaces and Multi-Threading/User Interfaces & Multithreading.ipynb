{
 "cells": [
  {
   "cell_type": "markdown",
   "metadata": {},
   "source": [
    "# User Interfaces & Multi-Threading\n",
    "User Interfaces (UI) are an important aspect of a software's acceptance. The more intuitive an interface is, the higher the acceptance and the better the user experience. There are multiple different UI libraries for Python in existance. During this course the `tkinter` library will be used to create a User Interface that lets the user create instances of the `Material` class from the previous course, add them to a list and display them in the UI. To achieve this, the `Material` class must first be saved as a single python module.\n",
    "\n",
    "The second part of this course deals with multi-threading. Normally when a module is run, it executes from top to bottom in a single thread. This means, that all processes are sequential and the is no parallel processing. This means that continuous processes potentially block the code from executing indefinitely. Multi-threading enables parallel tasks to be run."
   ]
  },
  {
   "cell_type": "markdown",
   "metadata": {},
   "source": [
    "## Creating a Python module from a notebook\n",
    "A module is a single python file. We have used these modules from third-party developers via the `import` command before.<br>\n",
    "It is also possible to use our self-created modules by importing them. For this we first have to create a module from a jupyter notebook.<br>\n",
    "To achieve this we create a new notebook without any content and pass the \"Material\" class from the previous course into the first cell.<br>\n",
    "Afterwards go to **File -> Rename...** and rename the notebook as `Material`.<br>\n",
    "To save as a python module then go to **File -> Download as -> Python (.py)** and save the module in the same directory as this notebook."
   ]
  },
  {
   "cell_type": "markdown",
   "metadata": {},
   "source": [
    "## Tkinter Window\n",
    "The tkinter library provides different functionalities for creating UIs. the most basic information to create an empty window are width and height and offset of the window.<br>\n",
    "Additionally some attributes, such as the background color of the window are configurable."
   ]
  },
  {
   "cell_type": "code",
   "execution_count": null,
   "metadata": {},
   "outputs": [],
   "source": [
    "#importing the tkinter library\n",
    "import tkinter as tk\n",
    "\n",
    "#creating an instance of a tkinter window\n",
    "window = tk.Tk()\n",
    "\n",
    "#setting width and height of window in pixels\n",
    "width, height = 800,600\n",
    "\n",
    "#setting offset in pixels\n",
    "offset_x, offset_y = 0,0\n",
    "\n",
    "#placing window\n",
    "window.geometry(\"%dx%d+%d+%d\" % (width, height, offset_x, offset_y))\n",
    "\n",
    "#changing background colour of the window\n",
    "window.configure(background = 'black')\n",
    "\n",
    "#starting UI\n",
    "window.mainloop()"
   ]
  },
  {
   "cell_type": "markdown",
   "metadata": {},
   "source": [
    "For this course we will create the UI by using a function, which enables us to add widgets such as `Buttons`, `Labels` and `Text` on the fly. This function will have the two arguments `width` and `height` which enables us to change the dimensions of the window to our preferences. The function will return the `window`object"
   ]
  },
  {
   "cell_type": "code",
   "execution_count": null,
   "metadata": {},
   "outputs": [],
   "source": [
    "#defining the function\n",
    "def createUI(w, h):\n",
    "    #creating an instance of a tkinter window\n",
    "    window = tk.Tk()\n",
    "\n",
    "    #setting offset in pixels\n",
    "    offset_x, offset_y = 0,0\n",
    "\n",
    "    #placing window\n",
    "    window.geometry(\"%dx%d+%d+%d\" % (w, h, offset_x, offset_y))\n",
    "\n",
    "    #changing background colour of the window\n",
    "    window.configure(background = 'black')\n",
    "    \n",
    "    return window    "
   ]
  },
  {
   "cell_type": "markdown",
   "metadata": {},
   "source": [
    "Notice that the `mainloop()` funtion is not called within the function.\n",
    "\n",
    "This is because we want to add more widgets before starting the UI. Starting the UI right away would only return an empty window, as shown in the next cell."
   ]
  },
  {
   "cell_type": "code",
   "execution_count": null,
   "metadata": {},
   "outputs": [],
   "source": [
    "#Calling the function\n",
    "width, height = 800,600\n",
    "my_window = createUI(width, height)\n",
    "\n",
    "#starting the UI\n",
    "my_window.mainloop()"
   ]
  },
  {
   "cell_type": "markdown",
   "metadata": {},
   "source": [
    "## Adding widgets\n",
    "Now that there is a window, we can add widgets, that enable the user to interact with the window. For this we create a new UI named `root`."
   ]
  },
  {
   "cell_type": "code",
   "execution_count": null,
   "metadata": {},
   "outputs": [],
   "source": [
    "width, height = 800,600\n",
    "root = createUI(width, height)"
   ]
  },
  {
   "cell_type": "markdown",
   "metadata": {},
   "source": [
    "The tkinter widgets are all classes that require some arguments. The next cell will provide examples for the following widgets and how to place them on the window `root`\n",
    "- `Label`\n",
    "- `Text`\n",
    "- `Button`\n",
    "- `Listbox`\n",
    "\n",
    "A `Label` contains displayable text. It is, by default, not directly interactive but can display information and is updateable."
   ]
  },
  {
   "cell_type": "code",
   "execution_count": null,
   "metadata": {},
   "outputs": [],
   "source": [
    "#creating a label widget\n",
    "test_label = tk.Label(root, # tkinter window this label should be applied to\n",
    "                    text = 'test', # text that is displayed in the label\n",
    "                    font = 'Verdana 14 bold', # text style\n",
    "                    fg = 'white', # text colour (fg = foreground)\n",
    "                    bg = 'gray') # backgroundcolor (bg = background)\n",
    "#placing the label at specific x and y coordinates.\n",
    "#x = 0 and y = 0 is the top left-hand corner of a window.\n",
    "test_label.place(x = 10, y = 10)"
   ]
  },
  {
   "cell_type": "markdown",
   "metadata": {},
   "source": [
    "Not all arguments are required and there are also more that can be added.\n",
    "\n",
    "`Text` widgets can display Strings and are also editable. It is possible to directly write into them. When specifying their size it is important to note, that the size does not concern pixels but number of letters and number of lines that can be displayed."
   ]
  },
  {
   "cell_type": "code",
   "execution_count": null,
   "metadata": {},
   "outputs": [],
   "source": [
    "#creating a text widget\n",
    "test_text = tk.Text(root,\n",
    "                   font = 'Verdana 14 bold',\n",
    "                   height = 3, # height of three lines\n",
    "                   width = 15, # width of twentyfour characters\n",
    "                   )\n",
    "#placing the text at a relative position depending on the window size\n",
    "test_text.place(x = int(width/100), y = int(height/10))"
   ]
  },
  {
   "cell_type": "markdown",
   "metadata": {},
   "source": [
    "The `Button` widget can execute specific commands on click. The command, which is usually a function, has to be defined before-hand. There are different ways to link commands and buttons. The solution shown here is the most simple one. \n",
    "\n",
    "First, the functions, that the button may call are defined.\n",
    "\n",
    "The `Listbox` methods of the `exampleButton3` function can be found [here](https://www.tutorialspoint.com/python/tk_listbox.htm). <br>\n",
    "**Attention**: The example code on the linked website is written in Python 2 and will therefore not work."
   ]
  },
  {
   "cell_type": "code",
   "execution_count": null,
   "metadata": {},
   "outputs": [],
   "source": [
    "#defining functions to be called on click\n",
    "def exampleButton1():\n",
    "    #Only prints text\n",
    "    print('Button clicked')\n",
    "\n",
    "def exampleButton2():\n",
    "    #print the text contained in the test_text widget\n",
    "    print(test_text.get(\"1.0\", \"end-1c\"))\n",
    "    \n",
    "#creating an empty list for the test_button\n",
    "test_list = []\n",
    "def exampleButton3():\n",
    "    #add content of text widget to a list\n",
    "    test_list.append(test_text.get(\"1.0\", \"end-1c\"))\n",
    "    #add content to the end of the listbox\n",
    "    test_listbox.insert(tk.END, test_text.get(\"1.0\", \"end-1c\"))"
   ]
  },
  {
   "cell_type": "markdown",
   "metadata": {},
   "source": [
    "##### The `get` method of the `Text` widget explained \n",
    "`Text.get(a,b)`\n",
    "\n",
    "The Text.get method returns a String of characters from the specified Text widget.\n",
    "The first argument __a__ specifies the start of the String that should be extracted from the widget, **b** specifies the last character.<br>\n",
    "In our example:\n",
    "\n",
    "a = 1.0\t\t -> First ROW Zeroth COLUMN of the characters<br>\n",
    "b = tk.END – 1c\t -> END of String minus the last character\n",
    "\n",
    "b has to be written like this, since the last character of the Text widget's string is always an added linebreak.\n",
    "\n",
    "Next, the actual button is instantiated and placed."
   ]
  },
  {
   "cell_type": "code",
   "execution_count": null,
   "metadata": {},
   "outputs": [],
   "source": [
    "#creating a button widget\n",
    "test_button = tk.Button(root,\n",
    "                       text = 'Test',\n",
    "                       font = 'Verdana 12 bold',\n",
    "                       command = exampleButton3 #function to be called on click. ATTENTION!! NO brackets!!\n",
    "                       )\n",
    "#placing the button\n",
    "test_button.place(x = 10, y = 200)"
   ]
  },
  {
   "cell_type": "markdown",
   "metadata": {},
   "source": [
    "The last widget that will be presented here is the `Listbox`. It does basically what the name states. It displays the items of a list inside a box. Each line of the list box in this example will contain one item from the list that was previously created.\n",
    "\n",
    "The `insert()` method of the `Listbox` class takes two arguments.<br>\n",
    "The *first argument* is the position (or index) where it should be added to the listbox. It could always be a specific position like the first item at index = 0 or the fifth item at index = 4, or be appended at the end of the Listbox as is done in our example.<br>\n",
    "The *second argument* is the content, that is added to the list."
   ]
  },
  {
   "cell_type": "code",
   "execution_count": null,
   "metadata": {},
   "outputs": [],
   "source": [
    "#creating a listbox widget\n",
    "test_listbox = tk.Listbox(root,\n",
    "                         font = 'Verdana 12 bold',\n",
    "                         height = 10,\n",
    "                         width = 20)\n",
    "#placing the listbox\n",
    "test_listbox.place(x = 300, y = 10)"
   ]
  },
  {
   "cell_type": "markdown",
   "metadata": {},
   "source": [
    "Now we can start the UI to look whether or not the positioning of the widgets worked out."
   ]
  },
  {
   "cell_type": "code",
   "execution_count": null,
   "metadata": {},
   "outputs": [],
   "source": [
    "root.mainloop()"
   ]
  },
  {
   "cell_type": "markdown",
   "metadata": {},
   "source": [
    "---\n",
    "## Tasks\n",
    "Create a UI that uses the module called `Material` which was created in the beginning of this course and adds new materials to a list when a button is clicked. Each material should be different. The following additional functionalities are to be provided by the UI:\n",
    "1. Display one Attribute of each Material in a Listbox\n",
    "2. The Attributes of a selected Material in the Listbox can be displayed in the console\n",
    "3. Deleting Materials from the Listbox\n",
    "\n",
    "A solution is included after the following topic"
   ]
  },
  {
   "cell_type": "code",
   "execution_count": null,
   "metadata": {},
   "outputs": [],
   "source": [
    "#import module\n",
    "\n",
    "#function to add Material\n",
    "\n",
    "#function to display Material\n",
    "\n",
    "#function to delete Material\n",
    "\n",
    "#create UI\n",
    "\n"
   ]
  },
  {
   "cell_type": "markdown",
   "metadata": {},
   "source": [
    "---\n",
    "## Creating an executable file (.exe)\n",
    "When providing a software to the enduser, they should not require an IDE such as Spyder or Jupyter Notebook to run it. For Windows, executable files with the ending .exe are generally used to run a software.\n",
    "\n",
    "These can be created using the library \"pyinstaller\" which can be installed via `PIP`.\n",
    "\n",
    "Navigate to the directory  \"Scripts\" in your Python directory.\n",
    "The Python module, that should be made into an executable and all **SELF-CREATED** modules have to be present in the folder.<br>\n",
    "Notebooks also need to be converted to Python modules beforehand.\n",
    "\n",
    "Open the `command` window in the \"Scripts\" directory and type in the following:\n",
    "\n",
    "`pyinstaller <MODUL_NAME>.py`\n",
    "\n",
    "After successful execution, the „dist“ directory will be created. Within, you find the Executable File."
   ]
  },
  {
   "cell_type": "markdown",
   "metadata": {},
   "source": [
    "---\n",
    "## Solution"
   ]
  },
  {
   "cell_type": "code",
   "execution_count": null,
   "metadata": {},
   "outputs": [],
   "source": [
    "#import modules\n",
    "import Material\n",
    "import tkinter as tk\n",
    "\n",
    "#function to add Material\n",
    "list_material = []\n",
    "def addMaterial():\n",
    "    #creating a new Material\n",
    "    newMaterial = Material.Material(mat_id = list_text[0].get(\"1.0\", \"end-1c\"),\n",
    "                                   mat_name = list_text[1].get(\"1.0\", \"end-1c\"),\n",
    "                                   unit = list_text[2].get(\"1.0\", \"end-1c\"),\n",
    "                                   minimum = list_text[3].get(\"1.0\", \"end-1c\"),\n",
    "                                   maximum = list_text[4].get(\"1.0\", \"end-1c\"))\n",
    "    #adding new Material to list\n",
    "    list_material.append(newMaterial)\n",
    "    #Updating listbox\n",
    "    #clearing old list\n",
    "    listbox_material.delete(0, tk.END)\n",
    "    #inserting the new list, so that the indices of the list and the listbox match\n",
    "    for material in list_material:\n",
    "        #Only show the name of the Material in the listbox\n",
    "        listbox_material.insert(tk.END, material.Material_Name)\n",
    "\n",
    "#function to display Material\n",
    "def showMaterial():\n",
    "    \n",
    "    #Check if any Materials are selected\n",
    "    if not listbox_material.curselection():\n",
    "        print('No Material Selected')\n",
    "    else:\n",
    "        #get index of selected item\n",
    "        positions = listbox_material.curselection()\n",
    "        #iterate over all selected materials\n",
    "        for item in positions:\n",
    "            #get Material\n",
    "            material = list_material[item]\n",
    "            #print material attributes to console\n",
    "            print('ID: %s, Name: %s, Unit: %s, Min: %s, Max: %s' %(material.Material_Id,\n",
    "                                                                   material.Material_Name,\n",
    "                                                                   material.Unit,\n",
    "                                                                   material.Minimum,\n",
    "                                                                   material.Maximum))\n",
    "\n",
    "#function to delete Material\n",
    "def deleteMaterial():\n",
    "    #Check if any Materials are selected\n",
    "    if not listbox_material.curselection:\n",
    "        print('No Material Selected')\n",
    "    else:\n",
    "        #get index of selected item\n",
    "        positions = listbox_material.curselection()\n",
    "    \n",
    "        #iterate over all selected materials\n",
    "        for item in positions:\n",
    "            #delete material\n",
    "            list_material.pop(item)\n",
    "        \n",
    "        #deleteing old items from listbox\n",
    "        listbox_material.delete(0, tk.END)\n",
    "        #inserting the new list, so that the indices of the list and the listbox match\n",
    "        for material in list_material:\n",
    "            #Only show the name of the Material in the listbox\n",
    "            listbox_material.insert(tk.END, material.Material_Name)\n",
    "        \n",
    "        \n",
    "#create UI\n",
    "\n",
    "\n",
    "#creating an instance of a tkinter window\n",
    "window = tk.Tk()\n",
    "\n",
    "#setting width and height of window in pixels\n",
    "width, height = 800,600\n",
    "\n",
    "#setting offset in pixels\n",
    "offset_x, offset_y = 0,0\n",
    "\n",
    "#placing window\n",
    "window.geometry(\"%dx%d+%d+%d\" % (width, height, offset_x, offset_y))\n",
    "\n",
    "\n",
    "#creating a label and text widgets for the Material Attributes\n",
    "attributes = ['ID','Name','Unit','Min.','Max.']\n",
    "#current position to change the position of items automatically\n",
    "cur_pos = 0\n",
    "# list of text widgets\n",
    "list_text = []\n",
    "for attribute in attributes:\n",
    "    #create labels\n",
    "    label = tk.Label(window,\n",
    "                        text = attribute,\n",
    "                        font = 'Verdana 14 bold')\n",
    "    label.place(x = 10, y = cur_pos*100+10)\n",
    "    #create texts\n",
    "    text = tk.Text(window,\n",
    "                   font = 'Verdana 14 bold',\n",
    "                   width = 10,\n",
    "                   height = 1)\n",
    "    text.place(x = 10, y = cur_pos*100+60)\n",
    "    #add texts to a list so they can be accessed again later\n",
    "    list_text.append(text)\n",
    "    \n",
    "    cur_pos += 1\n",
    "\n",
    "    \n",
    "    \n",
    "#creating buttons\n",
    "button_add = tk.Button(window,\n",
    "                       text = 'Add Material',\n",
    "                       font = 'Verdana 12 bold',\n",
    "                       command = addMaterial)\n",
    "#placing the button\n",
    "button_add.place(x = 10, y = 520)\n",
    "\n",
    "button_del = tk.Button(window,\n",
    "                       text = 'Delete Material',\n",
    "                       font = 'Verdana 12 bold',\n",
    "                       command = deleteMaterial)\n",
    "#placing the button\n",
    "button_del.place(x = 400, y = 520)\n",
    "\n",
    "button_show = tk.Button(window,\n",
    "                       text = 'Show Material',\n",
    "                       font = 'Verdana 12 bold',\n",
    "                       command = showMaterial)\n",
    "#placing the button\n",
    "button_show.place(x = 600, y = 520)\n",
    "\n",
    "#createing listbox\n",
    "listbox_material = tk.Listbox(window,\n",
    "                         font = 'Verdana 12 bold',\n",
    "                         height = 10,\n",
    "                         width = 20)\n",
    "#placing the listbox\n",
    "listbox_material.place(x = 400, y = 10)\n",
    "\n",
    "\n",
    "#starting UI\n",
    "window.mainloop()\n"
   ]
  },
  {
   "cell_type": "markdown",
   "metadata": {},
   "source": [
    "## Multi-Threading\n",
    "As already briefly explained, multi-threading enables a program to handle multiple tasks at the same time.\n",
    "\n",
    "A problem has come up with the cell console. If you have the nbextension `variable Inspector` activated, the console will stop its output once the main thread is terminated. Which means, if your self-created parallel thread is running after the main thread stops, the output will not be printed to the console. The code does execute and works, but you will not see any of the output.\n",
    "\n",
    "Therefore, for the duration of this course, you have to disable the extension `variable Inspector`. To do this, go to the jupyter notebook browser-tab where you can navigate through your files and open the *Nbextensions* tab -> deselect *Variable Inspector*.\n",
    "\n",
    "---\n",
    "Once done, close this notebook and open it again. Additionally go to *Kernel* and select *Restart & Clear Output* to make sure, everything is ready. Now you can continue with this course.\n",
    "\n",
    "The following example shows a function that operates on a single thread."
   ]
  },
  {
   "cell_type": "code",
   "execution_count": null,
   "metadata": {},
   "outputs": [],
   "source": [
    "#Importing libraries\n",
    "import time\n",
    "\n",
    "print(\"main Thread started\")\n",
    "\n",
    "\n",
    "def my_function(name, sleeptime):\n",
    "    print(\"Job: \", name, \" started\")\n",
    "    \n",
    "    for i in range(10):\n",
    "        print(i)\n",
    "        time.sleep(sleeptime)\n",
    "    \n",
    "    print(\"Job: \", name, \" stopped\")\n",
    "\n",
    "\n",
    "\n",
    "\n",
    "#Starting Thread parallel to main-Thread\n",
    "my_function('Counting', 0.5)\n",
    "\n",
    "print(\"main Thread stopped\")"
   ]
  },
  {
   "cell_type": "markdown",
   "metadata": {},
   "source": [
    "---\n",
    "As can be seen, the sequence is as follows:\n",
    "1. print the String from `Line 4`\n",
    "2. run `my_function()` from `Line 20`\n",
    "3. after the function finishes, print the String from `Line 22`.\n",
    "Only after the function completely finishes, will the program reach `Line 22`.\n",
    "\n",
    "But if the function from `Line 20` was started in a parallel thread, the `main` thread, as it is called, will continue running and even stop before the newly started thread finishes.\n",
    "\n",
    "The example below shows how this could look like."
   ]
  },
  {
   "cell_type": "code",
   "execution_count": null,
   "metadata": {},
   "outputs": [],
   "source": [
    "#Importing libraries\n",
    "import threading\n",
    "import time\n",
    "import numpy as np\n",
    "print(\"main Thread started\")\n",
    "\n",
    "\n",
    "def my_function(name, sleeptime):\n",
    "    print(\"Thread: \", name, \" started\")\n",
    "    \n",
    "    for i in range(5):\n",
    "        print(i)\n",
    "        time.sleep(sleeptime)\n",
    "        \n",
    "    print(\"Thread: \", name, \" stopped\")\n",
    "\n",
    "\n",
    "#Creating a new Thread\n",
    "my_thread = threading.Thread(target = my_function, args=('Counting', 0.5))\n",
    "#Starting the new Thread\n",
    "my_thread.start()\n",
    "print(\"main Thread stopped\")"
   ]
  },
  {
   "cell_type": "markdown",
   "metadata": {},
   "source": [
    "---\n",
    "As can be seen, the String \"main Thread stopped\" from `Line 22` is printed long before the parallel thread finishes.\n",
    "\n",
    "This multi-tasking ability is helpful for tasks that may take a long time to finish, such as downloading files, or are done repeatedly like reading out sensors.\n",
    "\n",
    "### Modelling a Sensor Read-out System\n",
    "The following example shows how reading out a sensor could be implemented.<br>\n",
    "For this, random values are created continuously to represent temperature values in a room. Once the temperature reaches a certain threshold, the function is terminated.<br>\n",
    "It can be seen that also functions, that are not directly started as a parallel thread can be accessed."
   ]
  },
  {
   "cell_type": "code",
   "execution_count": null,
   "metadata": {},
   "outputs": [],
   "source": [
    "#importing libraries\n",
    "import random\n",
    "import time\n",
    "import threading\n",
    "\n",
    "\n",
    "#Checking the roomtemperature\n",
    "def checkTemperature(room, temp_max, timer):\n",
    "    #Creating a random Temperature\n",
    "    temp = random.randint(15,35)\n",
    "    #looping as long as the threshold is not reached\n",
    "    while temp < temp_max:\n",
    "        #changing the temperature\n",
    "        temp = random.randint(15,35)\n",
    "        print(\"Current Temperature in \", room, \" is: \",temp, \"°C\")\n",
    "        time.sleep(timer)\n",
    "    #after the threshold is crossed, return the current temperature\n",
    "    return temp\n",
    "\n",
    "\n",
    "def my_function(name, maxTemp, freq):\n",
    "    #the function checkTemperature is called \n",
    "    temp = checkTemperature(name, maxTemp, freq) \n",
    "    #the print command is only reached, once the threshold \n",
    "    print(\"Temperature too high at \", temp, '°C')\n",
    "\n",
    "\n",
    "#creating a new thread that calls \"my_function\"\n",
    "my_thread = threading.Thread(target = my_function, args=('Livingroom', 34, 0.3))\n",
    "#Starting the new thread\n",
    "my_thread.start()"
   ]
  },
  {
   "cell_type": "markdown",
   "metadata": {},
   "source": [
    "---\n",
    "### Using a class for multi-threading\n",
    "The topic `inheritance` for classes has already been mentioned previously. It means that a class can use the functionalities of another class as their own. The following example shows how a class called `Thermostat` that inherits the functionalities of the `threading.Thread` class can check temperatures.\n",
    "\n",
    "We can thereby theoretically instantiate multiple thermostats for different rooms in an apartment that return the room temperatures independently."
   ]
  },
  {
   "cell_type": "code",
   "execution_count": null,
   "metadata": {},
   "outputs": [],
   "source": [
    "#importing libraries\n",
    "import threading\n",
    "import time\n",
    "import random\n",
    "\n",
    "\n",
    "#creating the Theermostat class, that inherits the traits/functionalities of the threading.Thread class\n",
    "class Thermostat (threading.Thread):\n",
    "    #Initializing Thermostat Class\n",
    "    def __init__(self, threadID, threadName, maxTemp, freq):\n",
    "        #Initializing Parent Class (threading.Thread)\n",
    "        threading.Thread.__init__(self)\n",
    "        #passing attribute values\n",
    "        self.threadID = threadID\n",
    "        self.Name = threadName\n",
    "        self.MaxTemp = maxTemp\n",
    "        self.Freq = freq\n",
    "\n",
    "    #The run Function is inherited from the threading.Thread class. It contains the code executed in the new Thread\n",
    "    def run(self):\n",
    "        print( \"Starting \" + self.Name)\n",
    "        exitVal = self.checkTemperature(self.Name, self.MaxTemp, self.Freq)\n",
    "        print(\"Too hot at: \", exitVal, \"°C\")\n",
    "        print( \"Exiting \" + self.Name)\n",
    "      \n",
    "    #Checking the roomtemperature\n",
    "    def checkTemperature(self, room, temp_max, timer):\n",
    "        #Creating a random Temperature (simulating a sensor)\n",
    "        temp = random.randint(15,35)\n",
    "        while temp < temp_max:\n",
    "            temp = random.randint(15,35)\n",
    "            print(\"Current Temperature in \", room, \" is: \",temp, \"°C\")\n",
    "            time.sleep(timer)\n",
    "        return temp\n",
    "\n",
    "\n",
    "\n",
    "# Create a new thread\n",
    "LivingRoom = Thermostat(1, \"Livingroom\", 34, 0.2)\n",
    "Kitchen = Thermostat(2, \"Kitchen\", 30, 0.5)\n",
    "# Start new Thread\n",
    "LivingRoom.start()\n",
    "Kitchen.start()\n"
   ]
  },
  {
   "cell_type": "markdown",
   "metadata": {
    "solution2": "hidden",
    "solution2_first": true
   },
   "source": [
    "---\n",
    "## Task\n",
    "Create a thread that displays your computer's current CPU and RAM usage.<br>\n",
    "Stop/Kill the thread if certain conditions are met."
   ]
  },
  {
   "cell_type": "code",
   "execution_count": null,
   "metadata": {},
   "outputs": [],
   "source": [
    "#importing libraries\n",
    "\n",
    "\n",
    "#checking cpu usage\n",
    "\n",
    "\n",
    "#checking ram usage\n",
    "\n",
    "\n",
    "#creating threads\n",
    "\n",
    "\n",
    "#starting threads"
   ]
  },
  {
   "cell_type": "markdown",
   "metadata": {},
   "source": [
    "---\n",
    "## Solution"
   ]
  },
  {
   "cell_type": "code",
   "execution_count": null,
   "metadata": {},
   "outputs": [],
   "source": [
    "#importing libraries\n",
    "import threading\n",
    "import time\n",
    "import random\n",
    "#library for reading out pc information\n",
    "import psutil\n",
    "\n",
    "#checking cpu usage\n",
    "def checkCPU(max_val, freq):\n",
    "    #getting current cpu usage in percent\n",
    "    cpu = psutil.cpu_percent()\n",
    "    while cpu < max_val:\n",
    "        #getting current cpu usage in percent\n",
    "        cpu = psutil.cpu_percent()\n",
    "\n",
    "        print(\"Current CPU Usage is: \",cpu, \"%\")\n",
    "        time.sleep(freq)\n",
    "    print(\"CPU Usage too high at \", cpu, '%')\n",
    "\n",
    "#checking ram usage\n",
    "def checkRAM(max_val, freq):\n",
    "    #getting current cpu usage in percent\n",
    "    ram = psutil.virtual_memory()[2]\n",
    "    while ram < max_val:\n",
    "        #getting current cpu usage in percent\n",
    "        ram = psutil.virtual_memory()[2]\n",
    "\n",
    "        print(\"Current RAM Usage is: \",ram, \"%\")\n",
    "        time.sleep(freq)\n",
    "    print(\"RAM Usage too high at \", ram, '%')\n",
    "\n",
    "\n",
    "#creating a new thread that calls \"checkCPU\"\n",
    "cpu_percent = threading.Thread(target = checkCPU, args=(15, 0.2))\n",
    "#creating a new thread that calls \"checkRAM\"\n",
    "ram_percent = threading.Thread(target = checkRAM, args=(30.6, 0.2))\n",
    "#Starting the new threads\n",
    "cpu_percent.start()\n",
    "ram_percent.start()"
   ]
  }
 ],
 "metadata": {
  "kernelspec": {
   "display_name": "Python 3",
   "language": "python",
   "name": "python3"
  },
  "language_info": {
   "codemirror_mode": {
    "name": "ipython",
    "version": 3
   },
   "file_extension": ".py",
   "mimetype": "text/x-python",
   "name": "python",
   "nbconvert_exporter": "python",
   "pygments_lexer": "ipython3",
   "version": "3.7.6"
  },
  "varInspector": {
   "cols": {
    "lenName": "16",
    "lenType": 16,
    "lenVar": 40
   },
   "kernels_config": {
    "python": {
     "delete_cmd_postfix": "",
     "delete_cmd_prefix": "del ",
     "library": "var_list.py",
     "varRefreshCmd": "print(var_dic_list())"
    },
    "r": {
     "delete_cmd_postfix": ") ",
     "delete_cmd_prefix": "rm(",
     "library": "var_list.r",
     "varRefreshCmd": "cat(var_dic_list()) "
    }
   },
   "types_to_exclude": [
    "module",
    "function",
    "builtin_function_or_method",
    "instance",
    "_Feature"
   ],
   "window_display": false
  }
 },
 "nbformat": 4,
 "nbformat_minor": 2
}
