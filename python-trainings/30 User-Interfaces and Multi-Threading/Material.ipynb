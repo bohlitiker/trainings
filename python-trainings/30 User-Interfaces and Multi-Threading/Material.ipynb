{
 "cells": [
  {
   "cell_type": "code",
   "execution_count": null,
   "metadata": {},
   "outputs": [],
   "source": [
    "#create class\n",
    "class Material:\n",
    "    def __init__ (self, mat_id, mat_name, unit, minimum, maximum):\n",
    "        self.Material_Id = mat_id\n",
    "        self.Material_Name = mat_name\n",
    "        self.Unit = unit\n",
    "        self.Minimum = minimum\n",
    "        self.Maximum = maximum"
   ]
  }
 ],
 "metadata": {
  "kernelspec": {
   "display_name": "Python 3",
   "language": "python",
   "name": "python3"
  },
  "language_info": {
   "codemirror_mode": {
    "name": "ipython",
    "version": 3
   },
   "file_extension": ".py",
   "mimetype": "text/x-python",
   "name": "python",
   "nbconvert_exporter": "python",
   "pygments_lexer": "ipython3",
   "version": "3.7.0"
  }
 },
 "nbformat": 4,
 "nbformat_minor": 2
}
