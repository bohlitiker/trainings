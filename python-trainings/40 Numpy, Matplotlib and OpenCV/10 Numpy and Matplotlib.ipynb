{
 "cells": [
  {
   "cell_type": "markdown",
   "metadata": {},
   "source": [
    "# Numpy and Matplotlib\n",
    "Analysing large amounts of data is a common task in the IT and engineering sector. Especially since the advent of digitization in production systems. Nowadays almost all technologies related to the digital factory has something to do with data analysis.\n",
    "\n",
    "`numpy` is one of the most commonly used python libraries when it comes to numerical data processing. Its name is short for numerical python.\n",
    "\n",
    "`matplotlib` as the name suggests is a library used for data visualization in 2D and 3D."
   ]
  },
  {
   "cell_type": "markdown",
   "metadata": {},
   "source": [
    "# numpy\n",
    "This library provides a wide variety of mathematical operations, we will start with simple examples such as creating an array or matrix and work our way up to complex array calculations.<br>\n",
    "Some of the most basic examples are shown below."
   ]
  },
  {
   "cell_type": "code",
   "execution_count": 1,
   "metadata": {},
   "outputs": [
    {
     "name": "stdout",
     "output_type": "stream",
     "text": [
      "cos(x) = -0.8390715290764524\n",
      "sin(x) = -0.5440211108893698\n"
     ]
    }
   ],
   "source": [
    "#importing the library. numpy is commonly used with the short version np\n",
    "import numpy as np\n",
    "\n",
    "#defining a variable\n",
    "x = 10\n",
    "\n",
    "#getting cosinus\n",
    "print('cos(x) =', np.cos(x))\n",
    "#getting sinus\n",
    "print('sin(x) =', np.sin(x))\n"
   ]
  },
  {
   "cell_type": "markdown",
   "metadata": {},
   "source": [
    "---\n",
    "### Creating Arrays\n",
    "Most calculations of large datasets are done using matrices or arrays, as they are called in programming.<br>\n",
    "`numpy` has multiple ways in which it can create arrays.\n",
    "The following examples show how to\n",
    "- create a 1-D array (n Lines, 1 Column)\n",
    "- create a 2-D array (n Lines, m Columns)\n",
    "- create a 3-D array (n Lines, m Columns, k Layers)"
   ]
  },
  {
   "cell_type": "code",
   "execution_count": 2,
   "metadata": {
    "code_folding": []
   },
   "outputs": [],
   "source": [
    "# 1-D array\n",
    "one_d = np.array([1,2,3,4,5,6])\n",
    "# 1-D array with evenly spaced values from start = 0, end = 100, step = 5. (just like the range() function)\n",
    "arange = np.arange(0,100, 5)\n",
    "\n",
    "\n",
    "# 2-D arrays\n",
    "two_d = np.array([[1,2,3],[4,5,6]])\n",
    "# 2-D array of only zeros\n",
    "zeros = np.zeros((100,100))\n",
    "# 2-D array of only ones\n",
    "ones = np.ones((100,100))\n",
    "# 2-D eye array\n",
    "eye = np.eye(100)\n",
    "\n",
    "\n",
    "# 3-D arrays\n",
    "three_d =np.array([[[100,100,100],[100,100,100]]])\n",
    "# 3-D array of only ones\n",
    "ones_3d = np.ones((10,10,3))"
   ]
  },
  {
   "cell_type": "code",
   "execution_count": 10,
   "metadata": {},
   "outputs": [
    {
     "name": "stdout",
     "output_type": "stream",
     "text": [
      "9.24 ms ± 1.08 ms per loop (mean ± std. dev. of 7 runs, 100 loops each)\n",
      "44.5 µs ± 1.81 µs per loop (mean ± std. dev. of 7 runs, 10000 loops each)\n"
     ]
    }
   ],
   "source": [
    "liste = []\n",
    "%timeit for i in range(100000):liste.append(i)\n",
    "%timeit array_test = np.arange(0,100000,1)"
   ]
  },
  {
   "cell_type": "markdown",
   "metadata": {},
   "source": [
    "Numpy arrays can be of many different datatypes such as `int64` (64bit Integer) or `float32` (32bit Float). <br>\n",
    "These can be either assigned on creation or changed at a later point.\n",
    "\n",
    "Another useful feature is saving numpy arrays to and loading them from the hard drive. For this numpy provides the `save()` and the `load()` functions."
   ]
  },
  {
   "cell_type": "code",
   "execution_count": 26,
   "metadata": {},
   "outputs": [],
   "source": [
    "#changing datatype of numpy array\n",
    "arange = np.array(arange, dtype = np.float32)"
   ]
  },
  {
   "cell_type": "code",
   "execution_count": 27,
   "metadata": {},
   "outputs": [],
   "source": [
    "#saving a numpy array by providing a filename and the array that shall be saved\n",
    "np.save('test_array.npy', arange)"
   ]
  },
  {
   "cell_type": "code",
   "execution_count": 29,
   "metadata": {},
   "outputs": [
    {
     "name": "stdout",
     "output_type": "stream",
     "text": [
      "[ 0.  5. 10. 15. 20. 25. 30. 35. 40. 45. 50. 55. 60. 65. 70. 75. 80. 85.\n",
      " 90. 95.]\n"
     ]
    }
   ],
   "source": [
    "#loading a numpy array by providing the path to the file, relative from the module/jupyter notebook that loads the file\n",
    "my_loaded_array = np.load('test_array.npy')\n",
    "print(my_loaded_array)"
   ]
  },
  {
   "cell_type": "markdown",
   "metadata": {},
   "source": [
    "As could already be seen, the format of `numpy` arrays is similar to that of `list` pyObjects.\n",
    "\n",
    "numpy: `array = np.array([[1,2],[3,4]])`\n",
    "\n",
    "python list: `list = [[1,2][3,4]]`\n",
    "\n",
    "This is done with purpose, so that `list` objects that only contain `float` or `int` type values can be converted into `numpy arrays`."
   ]
  },
  {
   "cell_type": "code",
   "execution_count": 33,
   "metadata": {},
   "outputs": [
    {
     "name": "stdout",
     "output_type": "stream",
     "text": [
      "[[1, 2, 3], [4, 5, 6], [7, 8, 9]]\n",
      "[[1 2 3]\n",
      " [4 5 6]\n",
      " [7 8 9]]\n",
      "[array([1, 2, 3], dtype=int64), array([4, 5, 6], dtype=int64), array([7, 8, 9], dtype=int64)]\n",
      "(3, 3)\n"
     ]
    },
    {
     "data": {
      "text/plain": [
       "array([1, 2, 3], dtype=int64)"
      ]
     },
     "execution_count": 33,
     "metadata": {},
     "output_type": "execute_result"
    }
   ],
   "source": [
    "#creating a list object\n",
    "my_list = [[1,2,3],[4,5,6],[7,8,9]]\n",
    "print(my_list)\n",
    "\n",
    "#creating a numpy array of type int64\n",
    "my_array = np.int64(my_list)\n",
    "print(my_array)\n",
    "\n",
    "#converting a numpy array to a list object\n",
    "back_to_list = list(my_array)\n",
    "print(back_to_list)\n",
    "print(my_array.shape)\n",
    "back_to_list[0]"
   ]
  },
  {
   "cell_type": "markdown",
   "metadata": {},
   "source": [
    "**Questions:**\n",
    "\n",
    "What happens to the `back_to_list` variable? Is it identical to `my_list`?If not, what are the differences?<br>\n",
    "**Answer:**\n",
    "\n",
    "Try returning `my_array` to the same format as `my_list`.\n",
    "\n",
    "**Answer:**"
   ]
  },
  {
   "cell_type": "code",
   "execution_count": null,
   "metadata": {},
   "outputs": [],
   "source": [
    "#Changing my_array to a list object without arrays in each item."
   ]
  },
  {
   "cell_type": "markdown",
   "metadata": {},
   "source": [
    "---\n",
    "### Visualising Data\n",
    "Using matplotlib, it is possible to easily visualise data.<br>\n",
    "By default the plot will show up in the cell's console, but this can be changed to e.g. a separate window as well. The following commands change how plots are displayed:\n",
    "\n",
    "`%matplotlib inline` to display inside the console\n",
    "\n",
    "`%matplotlib qt` to display in a separate window\n",
    "\n",
    "To use the QT functionalities, be sure to check whether or not they are installed in your environment and install/upgrade them if necessary. To do this, `activate` your environment in the `anaconda prompt` and type in the following command:\n",
    "\n",
    "`pip install PyQt5`\n",
    "\n",
    "If not installed previously, the library will now be installed for this environment. To upgrade the library, add the `--upgrade` command.\n",
    "\n",
    "Now to visualise the array loaded from the hard-drive."
   ]
  },
  {
   "cell_type": "code",
   "execution_count": 36,
   "metadata": {},
   "outputs": [
    {
     "data": {
      "text/plain": [
       "<matplotlib.collections.PathCollection at 0x21143820b08>"
      ]
     },
     "execution_count": 36,
     "metadata": {},
     "output_type": "execute_result"
    },
    {
     "data": {
      "image/png": "[encoded data removed]",
      "text/plain": [
       "<Figure size 432x288 with 1 Axes>"
      ]
     },
     "metadata": {
      "needs_background": "light"
     },
     "output_type": "display_data"
    }
   ],
   "source": [
    "#import libraries\n",
    "import matplotlib.pyplot as plt\n",
    "%matplotlib inline\n",
    "\n",
    "#creating a scatterplot --> 1.Argument is the x values, 2.Argument is the y values\n",
    "#creating the x values by using the shape (same as len() for lists) of my_loaded_array\n",
    "x_val = np.arange(0, my_loaded_array.shape[0])\n",
    "plt.scatter(x_val, my_loaded_array)"
   ]
  },
  {
   "cell_type": "markdown",
   "metadata": {},
   "source": [
    "---\n",
    "It is also possible to show multiple plots next to each other using the `subplot` function."
   ]
  },
  {
   "cell_type": "code",
   "execution_count": 45,
   "metadata": {},
   "outputs": [
    {
     "data": {
      "text/plain": [
       "(<matplotlib.axes._subplots.AxesSubplot at 0x21143efb7c8>,\n",
       " Text(0.5, 1.0, 'test line'),\n",
       " [<matplotlib.lines.Line2D at 0x21143f3e3c8>])"
      ]
     },
     "execution_count": 45,
     "metadata": {},
     "output_type": "execute_result"
    },
    {
     "data": {
      "image/png": "[encoded data removed]",
      "text/plain": [
       "<Figure size 432x288 with 3 Axes>"
      ]
     },
     "metadata": {
      "needs_background": "light"
     },
     "output_type": "display_data"
    }
   ],
   "source": [
    "#using subplot. The numbers indicate:\n",
    "#1st -> number of lines, 2nd -> number of columns -> 3rd position\n",
    "#also added title\n",
    "plt.subplot(131), plt.title('scatterplot'), plt.scatter(x_val, my_loaded_array)\n",
    "plt.subplot(132), plt.title('plotted line'), plt.plot(x_val, my_loaded_array)\n",
    "plt.subplot(133), plt.title('test line'), plt.plot(x_val, my_loaded_array)"
   ]
  },
  {
   "cell_type": "markdown",
   "metadata": {},
   "source": [
    "The QT Windows provide a lot of additional functionalities for plotting. Some of the main advantages are:\n",
    "- getting the coordinates and value the mouse cursor is currently hovering over\n",
    "- zooming and moving within the plot\n",
    "- rotating 3D plots\n",
    "\n",
    "Using the command `%matplotlib qt` matplotlib's `plot()` function will plot in a separate window. It can be disabled by running the command `%matplotlib inline` again and vice versa."
   ]
  },
  {
   "cell_type": "code",
   "execution_count": 51,
   "metadata": {},
   "outputs": [],
   "source": [
    "#plotting in a separate window\n",
    "#This sometimes has a problem of not working properly. A new window should be created.\n",
    "#Execute multiple times if not working properly\n",
    "%matplotlib qt"
   ]
  },
  {
   "cell_type": "code",
   "execution_count": 52,
   "metadata": {},
   "outputs": [
    {
     "data": {
      "text/plain": [
       "(<matplotlib.axes._subplots.AxesSubplot at 0x21149e52408>,\n",
       " Text(0.5, 1.0, 'plotted line'),\n",
       " [<matplotlib.lines.Line2D at 0x21149edcd08>])"
      ]
     },
     "execution_count": 52,
     "metadata": {},
     "output_type": "execute_result"
    }
   ],
   "source": [
    "plt.subplot(121), plt.title('scatterplot'), plt.scatter(x_val, my_loaded_array)\n",
    "plt.subplot(122), plt.title('plotted line'), plt.plot(x_val, my_loaded_array)"
   ]
  },
  {
   "cell_type": "markdown",
   "metadata": {},
   "source": [
    "### Matrix Arithmetics\n",
    "Arithmetics for arrays work just like they would for other datatype. The basic arithmetic operators such as `+,-,*,/` work on matrices as well. For this, the array-dimensions must match. The specified operation is then executed for each value with its corresponding counterpart.\n",
    "\n",
    "One example for each operator below."
   ]
  },
  {
   "cell_type": "code",
   "execution_count": 55,
   "metadata": {},
   "outputs": [
    {
     "name": "stdout",
     "output_type": "stream",
     "text": [
      "Basic array\n",
      " [[1. 2. 3.]\n",
      " [4. 5. 6.]\n",
      " [7. 8. 9.]]\n",
      "Calculation array\n",
      " [[9. 8. 7.]\n",
      " [6. 5. 4.]\n",
      " [3. 2. 1.]]\n",
      "Addition\n",
      " [[10. 10. 10.]\n",
      " [10. 10. 10.]\n",
      " [10. 10. 10.]]\n",
      "Subtraction\n",
      " [[-8. -6. -4.]\n",
      " [-2.  0.  2.]\n",
      " [ 4.  6.  8.]]\n",
      "Multiplication\n",
      " [[ 9. 16. 21.]\n",
      " [24. 25. 24.]\n",
      " [21. 16.  9.]]\n",
      "Division\n",
      " [[0.1111 0.25   0.4285]\n",
      " [0.6665 1.     1.5   ]\n",
      " [2.334  4.     9.    ]]\n"
     ]
    }
   ],
   "source": [
    "#basic array\n",
    "array_basic = np.float16([[1,2,3],[4,5,6],[7,8,9]])\n",
    "#calculation array\n",
    "array_calc = np.float16([[9,8,7],[6,5,4],[3,2,1]])\n",
    "\n",
    "print('Basic array\\n', array_basic)\n",
    "print('Calculation array\\n', array_calc)\n",
    "\n",
    "print('Addition\\n', array_basic+array_calc)\n",
    "print('Subtraction\\n', array_basic-array_calc)\n",
    "print('Multiplication\\n', array_basic*array_calc)\n",
    "print('Division\\n', array_basic/array_calc)"
   ]
  },
  {
   "attachments": {
    "mm.jpg": {
     "image/jpeg": "[encoded data removed]"
    }
   },
   "cell_type": "markdown",
   "metadata": {},
   "source": [
    "#### Matrix Multiplication\n",
    "Another important operation when working with vectors and matrices is the **vector product** and respectively  **matrix multiplication**. For this `numpy` provides the `np.dot()` function. As a reminder, the following image shows what matrix multiplication is.\n",
    "![mm.jpg](attachment:mm.jpg)\n",
    "The requirement for this is that the second dimension of the first array and the first dimension of the second array are the same. The result will be an array that is shaped in accordance to the other dimensions of the arrays used for the multiplication.\n",
    "\n",
    "Example:\n",
    "\n",
    "A(2,3) and B(3,6) --> C = `np.dot(A,B)` --> C(2,6) "
   ]
  },
  {
   "cell_type": "code",
   "execution_count": 58,
   "metadata": {},
   "outputs": [
    {
     "name": "stdout",
     "output_type": "stream",
     "text": [
      "Shape c: (2, 6) \n",
      " [[ 6 12 18 24 30 36]\n",
      " [15 30 45 60 75 90]]\n"
     ]
    }
   ],
   "source": [
    "a = np.array([[1,2,3],[4,5,6]])\n",
    "b = np.array([[1,2,3,4,5,6],[1,2,3,4,5,6],[1,2,3,4,5,6]])\n",
    "c = np.dot(a,b)\n",
    "print('Shape c:', c.shape,\n",
    "     '\\n',c)"
   ]
  },
  {
   "cell_type": "markdown",
   "metadata": {},
   "source": [
    "### Array Masks\n",
    "A very useful function of numpy arrays is to use so-called array masks. The operator used for this is is the `Comparison Operator` which was discussed in a previous notebook. Any of the `Comparison Operators` can be used to create masks.\n",
    "\n",
    "For the following example an eye matrix is created. Afterwards, using a `Comparison Operator` to compare every value in the array to a certain value, in this case a **Zero** , a mask of boolean values that has matching dimensions to the original array is created."
   ]
  },
  {
   "cell_type": "code",
   "execution_count": 59,
   "metadata": {},
   "outputs": [
    {
     "name": "stdout",
     "output_type": "stream",
     "text": [
      "Eye Array\n",
      " [[1. 0. 0. 0. 0. 0. 0. 0. 0. 0.]\n",
      " [0. 1. 0. 0. 0. 0. 0. 0. 0. 0.]\n",
      " [0. 0. 1. 0. 0. 0. 0. 0. 0. 0.]\n",
      " [0. 0. 0. 1. 0. 0. 0. 0. 0. 0.]\n",
      " [0. 0. 0. 0. 1. 0. 0. 0. 0. 0.]\n",
      " [0. 0. 0. 0. 0. 1. 0. 0. 0. 0.]\n",
      " [0. 0. 0. 0. 0. 0. 1. 0. 0. 0.]\n",
      " [0. 0. 0. 0. 0. 0. 0. 1. 0. 0.]\n",
      " [0. 0. 0. 0. 0. 0. 0. 0. 1. 0.]\n",
      " [0. 0. 0. 0. 0. 0. 0. 0. 0. 1.]]\n",
      "Mask\n",
      " [[False  True  True  True  True  True  True  True  True  True]\n",
      " [ True False  True  True  True  True  True  True  True  True]\n",
      " [ True  True False  True  True  True  True  True  True  True]\n",
      " [ True  True  True False  True  True  True  True  True  True]\n",
      " [ True  True  True  True False  True  True  True  True  True]\n",
      " [ True  True  True  True  True False  True  True  True  True]\n",
      " [ True  True  True  True  True  True False  True  True  True]\n",
      " [ True  True  True  True  True  True  True False  True  True]\n",
      " [ True  True  True  True  True  True  True  True False  True]\n",
      " [ True  True  True  True  True  True  True  True  True False]]\n"
     ]
    }
   ],
   "source": [
    "#creating eye matrix\n",
    "slicing_array = np.eye(10)\n",
    "print('Eye Array\\n',slicing_array)\n",
    "\n",
    "#create mask for all values equal to 0\n",
    "mask = slicing_array == 0\n",
    "print('Mask\\n',mask)"
   ]
  },
  {
   "cell_type": "markdown",
   "metadata": {},
   "source": [
    "Boolean values can also be expresses as numbers with `True == 1` and `False == 0`.\n",
    "\n",
    "But using words to explain how masks work is more understandable. Basically the operations when using masks will only be executed on those values that correspond to a `True` value in the mask. The previously created mask is only `True` where the value is equal to zero.\n",
    "\n",
    "Using this `mask`, it is possible to only do operations on this area.\n",
    "\n",
    "In this example the addition of 10 is only done, where the mask is `True`.<br>\n",
    "The following example is an array consisting of only zeros. Using the `mask` from the previous cell, a 10 is added."
   ]
  },
  {
   "cell_type": "code",
   "execution_count": 60,
   "metadata": {},
   "outputs": [
    {
     "name": "stdout",
     "output_type": "stream",
     "text": [
      "my_array\n",
      " [[0. 0. 0. 0. 0. 0. 0. 0. 0. 0.]\n",
      " [0. 0. 0. 0. 0. 0. 0. 0. 0. 0.]\n",
      " [0. 0. 0. 0. 0. 0. 0. 0. 0. 0.]\n",
      " [0. 0. 0. 0. 0. 0. 0. 0. 0. 0.]\n",
      " [0. 0. 0. 0. 0. 0. 0. 0. 0. 0.]\n",
      " [0. 0. 0. 0. 0. 0. 0. 0. 0. 0.]\n",
      " [0. 0. 0. 0. 0. 0. 0. 0. 0. 0.]\n",
      " [0. 0. 0. 0. 0. 0. 0. 0. 0. 0.]\n",
      " [0. 0. 0. 0. 0. 0. 0. 0. 0. 0.]\n",
      " [0. 0. 0. 0. 0. 0. 0. 0. 0. 0.]]\n",
      "plus_10\n",
      " [[ 0. 10. 10. 10. 10. 10. 10. 10. 10. 10.]\n",
      " [10.  0. 10. 10. 10. 10. 10. 10. 10. 10.]\n",
      " [10. 10.  0. 10. 10. 10. 10. 10. 10. 10.]\n",
      " [10. 10. 10.  0. 10. 10. 10. 10. 10. 10.]\n",
      " [10. 10. 10. 10.  0. 10. 10. 10. 10. 10.]\n",
      " [10. 10. 10. 10. 10.  0. 10. 10. 10. 10.]\n",
      " [10. 10. 10. 10. 10. 10.  0. 10. 10. 10.]\n",
      " [10. 10. 10. 10. 10. 10. 10.  0. 10. 10.]\n",
      " [10. 10. 10. 10. 10. 10. 10. 10.  0. 10.]\n",
      " [10. 10. 10. 10. 10. 10. 10. 10. 10.  0.]]\n"
     ]
    }
   ],
   "source": [
    "my_array = np.zeros((10,10))\n",
    "print('my_array\\n', my_array)\n",
    "\n",
    "plus_10 = my_array + mask * 10\n",
    "print('plus_10\\n', plus_10)"
   ]
  },
  {
   "cell_type": "markdown",
   "metadata": {},
   "source": [
    "### Reshaping arrays\n",
    "Another  important function of the `numpy` library is reshaping arrays. To demonstrate a one-dimensional array with 100 items is created and then reshaped into a two-dimensional array of ten rows and columns respectively.\n",
    "\n",
    "Reshaping arrays is achieved by using the `reshape()` function.\n",
    "\n",
    "First up, creating and checking the shape of the array."
   ]
  },
  {
   "cell_type": "code",
   "execution_count": 63,
   "metadata": {},
   "outputs": [
    {
     "name": "stdout",
     "output_type": "stream",
     "text": [
      "[  1   2   3   4   5   6   7   8   9  10  11  12  13  14  15  16  17  18\n",
      "  19  20  21  22  23  24  25  26  27  28  29  30  31  32  33  34  35  36\n",
      "  37  38  39  40  41  42  43  44  45  46  47  48  49  50  51  52  53  54\n",
      "  55  56  57  58  59  60  61  62  63  64  65  66  67  68  69  70  71  72\n",
      "  73  74  75  76  77  78  79  80  81  82  83  84  85  86  87  88  89  90\n",
      "  91  92  93  94  95  96  97  98  99 100]\n",
      "\n",
      "Number of rows: 100 \n",
      "Number of items in the array: 100\n"
     ]
    }
   ],
   "source": [
    "#create 1-D array\n",
    "one_d = np.arange(1,101,1)\n",
    "print( one_d)\n",
    "\n",
    "#getting shape of the array. first value = number of rows, second value = number of columns\n",
    "# third value = number of layers, n-th value = n-th dimension\n",
    "\n",
    "#this array only has one dimension, so only the first dimension has a value\n",
    "print('\\nNumber of rows:', one_d.shape[0], '\\nNumber of items in the array:', len(one_d))"
   ]
  },
  {
   "cell_type": "markdown",
   "metadata": {},
   "source": [
    "The knowledge about the number of items in the array is required to set the axes' length when reshaping the array. Since the number of rows times the number of columns must be the same as the total number of items in the array. \n",
    "\n",
    "`array.reshape((NUM_ROWS,NUM_COLUMNS, NUM_X))`"
   ]
  },
  {
   "cell_type": "code",
   "execution_count": 69,
   "metadata": {},
   "outputs": [
    {
     "name": "stdout",
     "output_type": "stream",
     "text": [
      "[[  1   2   3   4   5   6   7   8   9  10]\n",
      " [ 11  12  13  14  15  16  17  18  19  20]\n",
      " [ 21  22  23  24  25  26  27  28  29  30]\n",
      " [ 31  32  33  34  35  36  37  38  39  40]\n",
      " [ 41  42  43  44  45  46  47  48  49  50]\n",
      " [ 51  52  53  54  55  56  57  58  59  60]\n",
      " [ 61  62  63  64  65  66  67  68  69  70]\n",
      " [ 71  72  73  74  75  76  77  78  79  80]\n",
      " [ 81  82  83  84  85  86  87  88  89  90]\n",
      " [ 91  92  93  94  95  96  97  98  99 100]]\n"
     ]
    }
   ],
   "source": [
    "#reshaping array \n",
    "two_d = one_d.reshape((10,10))\n",
    "print(two_d)"
   ]
  },
  {
   "cell_type": "markdown",
   "metadata": {},
   "source": [
    "Now for an additional example for masks, all items in this array larger than 55 are used as a threshold for the mask. Afterwards, all value above 55 are multiplied by 10.\n",
    "\n",
    "This is achieved using `slicing`."
   ]
  },
  {
   "cell_type": "code",
   "execution_count": 70,
   "metadata": {},
   "outputs": [
    {
     "name": "stdout",
     "output_type": "stream",
     "text": [
      "Mask\n",
      " [[False False False False False False False False False False]\n",
      " [False False False False False False False False False False]\n",
      " [False False False False False False False False False False]\n",
      " [False False False False False False False False False False]\n",
      " [False False False False False False False False False False]\n",
      " [False False False False False  True  True  True  True  True]\n",
      " [ True  True  True  True  True  True  True  True  True  True]\n",
      " [ True  True  True  True  True  True  True  True  True  True]\n",
      " [ True  True  True  True  True  True  True  True  True  True]\n",
      " [ True  True  True  True  True  True  True  True  True  True]]\n",
      "two_d\n",
      " [[   1    2    3    4    5    6    7    8    9   10]\n",
      " [  11   12   13   14   15   16   17   18   19   20]\n",
      " [  21   22   23   24   25   26   27   28   29   30]\n",
      " [  31   32   33   34   35   36   37   38   39   40]\n",
      " [  41   42   43   44   45   46   47   48   49   50]\n",
      " [  51   52   53   54   55  560  570  580  590  600]\n",
      " [ 610  620  630  640  650  660  670  680  690  700]\n",
      " [ 710  720  730  740  750  760  770  780  790  800]\n",
      " [ 810  820  830  840  850  860  870  880  890  900]\n",
      " [ 910  920  930  940  950  960  970  980  990 1000]]\n"
     ]
    }
   ],
   "source": [
    "#creating mask\n",
    "mask_two_d = two_d > 55\n",
    "print('Mask\\n', mask_two_d)\n",
    "\n",
    "#doing the operation only where the mask is true using slicing\n",
    "two_d[mask_two_d] *= 10\n",
    "\n",
    "print('two_d\\n', two_d)"
   ]
  },
  {
   "cell_type": "markdown",
   "metadata": {},
   "source": [
    "### Adding arrays together along axes\n",
    "Sometimes it is necessary to add additional columns, rows or layers to an array. If you assume there is an array with two columns describing a person's physique. The first column could be the person's height and the second column could be the weight. The rows contain the people these information belong to.\n",
    "\n",
    "Now a third column containing a person's waist-width should be added.\n",
    "\n",
    "To do this, `numpy` has the `np.hstack()` function that horizontally stacks arrays according to the sequence they are added."
   ]
  },
  {
   "cell_type": "code",
   "execution_count": 72,
   "metadata": {},
   "outputs": [
    {
     "name": "stdout",
     "output_type": "stream",
     "text": [
      "Physique\n",
      " [[180  84]\n",
      " [170  61]]\n",
      "Physique\n",
      " [[ 90 180  84]\n",
      " [ 84 170  61]]\n"
     ]
    }
   ],
   "source": [
    "#creating two-dimensional array\n",
    "physique = np.array([[180,84],[170,61]])\n",
    "print('Physique\\n', physique)\n",
    "\n",
    "#creating one-dimensional array to add as a column\n",
    "waist = np.array([90,84])\n",
    "#the arrays need to be of the same dimensions, therefore the waist array needs another dimension\n",
    "waist = waist.reshape((waist.shape[0], 1))\n",
    "\n",
    "#horizontally stacking\n",
    "physique = np.hstack((physique, waist))\n",
    "print('Physique\\n', physique)                 "
   ]
  },
  {
   "cell_type": "markdown",
   "metadata": {},
   "source": [
    "There are multiple ways to add another person to the array, but for the purpose of this example we will use the `np.vstack()` function."
   ]
  },
  {
   "cell_type": "code",
   "execution_count": 75,
   "metadata": {},
   "outputs": [
    {
     "name": "stdout",
     "output_type": "stream",
     "text": [
      "Physique\n",
      " [[ 90 180  84]\n",
      " [ 84 170  61]\n",
      " [199  84  94]\n",
      " [199  84  94]\n",
      " [199  84  94]]\n"
     ]
    }
   ],
   "source": [
    "#new person\n",
    "person_x = np.array([199, 84, 94])\n",
    "\n",
    "#adding row to array\n",
    "physique = np.vstack((physique, person_x))\n",
    "print('Physique\\n', physique)"
   ]
  },
  {
   "cell_type": "markdown",
   "metadata": {},
   "source": [
    "Using `np.vstack()` and `np.hstack()` it is only possible to add data along the first (rows) and second (columns) axes of arrays. When adding data along an axis in n-dimensional arrays the `np.concatenate()` function can be used. It can also be used to substitute the `np.vstack()` and `np.hstack()` functions.\n",
    "\n",
    "`np.concatenate((ARRAY_1,ARRAY_2,ARRAY_N), axis = Z)`\n",
    "\n",
    "If `Z == 0`, `np.concatenate()` can substitute the `np.vstack()` function. `Z == 1` could substitute the `np.hstack()` function. And so on. So as an example, a three-dimensional array of dimensions (10,10,1) is created and two new layer are added along the third axis (depth)."
   ]
  },
  {
   "cell_type": "code",
   "execution_count": 76,
   "metadata": {},
   "outputs": [
    {
     "name": "stdout",
     "output_type": "stream",
     "text": [
      "Array Dimensions before concatenate (10, 10, 1)\n",
      "Array Dimensions after concatenate (10, 10, 3)\n"
     ]
    }
   ],
   "source": [
    "#create three-dimensional array of ones\n",
    "three_d = np.ones((10,10,1))\n",
    "print('Array Dimensions before concatenate', three_d.shape)\n",
    "\n",
    "#stacking array by itself along its third axis\n",
    "three_d = np.concatenate((three_d,three_d,three_d), axis = 2)\n",
    "print('Array Dimensions after concatenate', three_d.shape)"
   ]
  },
  {
   "cell_type": "markdown",
   "metadata": {},
   "source": [
    "---\n",
    "### Tasks"
   ]
  },
  {
   "cell_type": "markdown",
   "metadata": {},
   "source": [
    "1. Create a one-dimensional array with 10.000 items of random values between 0 and 1000. Check if `numpy` has a function for it."
   ]
  },
  {
   "cell_type": "code",
   "execution_count": 80,
   "metadata": {},
   "outputs": [
    {
     "data": {
      "text/plain": [
       "array([124.97776594, 126.63479698, 347.01182242, ..., 388.40846567,\n",
       "       952.59080703, 102.43108886])"
      ]
     },
     "execution_count": 80,
     "metadata": {},
     "output_type": "execute_result"
    }
   ],
   "source": [
    "#Create array\n",
    "import numpy as np\n",
    "random_array = np.random.uniform(0,1000,(10000))\n",
    "random_array"
   ]
  },
  {
   "cell_type": "markdown",
   "metadata": {},
   "source": [
    "2. Reshape the array into the following shapes\n",
    " - 100x100\n",
    " - 10x10x100"
   ]
  },
  {
   "cell_type": "code",
   "execution_count": 87,
   "metadata": {},
   "outputs": [
    {
     "name": "stdout",
     "output_type": "stream",
     "text": [
      "(100, 100)\n"
     ]
    },
    {
     "data": {
      "text/plain": [
       "(10, 10, 100)"
      ]
     },
     "execution_count": 87,
     "metadata": {},
     "output_type": "execute_result"
    }
   ],
   "source": [
    "#reshape1\n",
    "hun_hun = np.reshape(random_array,(100,100))\n",
    "print(hun_hun.shape)\n",
    "#reshape2\n",
    "ten_ten_hun = np.reshape(random_array,(10,10,100))\n",
    "#ten_ten_hun.shape"
   ]
  },
  {
   "cell_type": "markdown",
   "metadata": {},
   "source": [
    "3. Select four of the (10x10) arrays created in the previous reshape task and plot them using the `matplotlib` function. Use `%matplotlib inline` and the `subplot()` function.\n",
    "\n",
    " For plotting, use `plt.imshow(MY_ARRAY, cmap = 'gray')`.\n",
    "\n",
    " What do the plotted arrays remind you of?\n",
    "\n",
    "**Answer:**\n",
    "\n"
   ]
  },
  {
   "cell_type": "code",
   "execution_count": 94,
   "metadata": {},
   "outputs": [
    {
     "data": {
      "text/plain": [
       "(<matplotlib.axes._subplots.AxesSubplot at 0x211478614c8>,\n",
       " Text(0.5, 1.0, 'scatterplot'),\n",
       " <matplotlib.image.AxesImage at 0x21147fa5a48>)"
      ]
     },
     "execution_count": 94,
     "metadata": {},
     "output_type": "execute_result"
    }
   ],
   "source": [
    "#plotting arrays\n",
    "plt.subplot(221), plt.title('scatterplot'), plt.imshow(ten_ten_hun[:,:,0], cmap = 'gray')\n",
    "plt.subplot(222), plt.title('scatterplot'), plt.imshow(ten_ten_hun[:,:,1], cmap = 'gray')\n",
    "plt.subplot(223), plt.title('scatterplot'), plt.imshow(ten_ten_hun[:,:,2], cmap = 'gray')\n",
    "plt.subplot(224), plt.title('scatterplot'), plt.imshow(ten_ten_hun[:,:,3], cmap = 'gray')"
   ]
  },
  {
   "cell_type": "markdown",
   "metadata": {},
   "source": [
    "4. Now using the `np.concatenate()` function, create a new array of the shape (100x100) from the (10x10x100) shaped array. To start of, create an empty array using `numpy` of the proper dimensions."
   ]
  },
  {
   "cell_type": "code",
   "execution_count": null,
   "metadata": {},
   "outputs": [],
   "source": [
    "#creating new reshaped array"
   ]
  },
  {
   "cell_type": "markdown",
   "metadata": {},
   "source": [
    "5. Using the new 100x100 array, normalize the values of all the items in that array."
   ]
  },
  {
   "cell_type": "code",
   "execution_count": null,
   "metadata": {},
   "outputs": [],
   "source": [
    "#normalize values"
   ]
  },
  {
   "cell_type": "markdown",
   "metadata": {},
   "source": [
    "6. Now change all the values in a specific area to zero and plot the result using the `imshow()` function of `matplotlib`. The area being from (row = 10, column = 10) till (row = 40, column = 30)."
   ]
  },
  {
   "cell_type": "code",
   "execution_count": 104,
   "metadata": {},
   "outputs": [
    {
     "data": {
      "text/plain": [
       "<matplotlib.image.AxesImage at 0x21147505f48>"
      ]
     },
     "execution_count": 104,
     "metadata": {},
     "output_type": "execute_result"
    }
   ],
   "source": [
    "#setting values to zero\n",
    "hun_hun[10:40,10:30] = 1000\n",
    "plt.imshow(hun_hun)\n",
    "#plotting array"
   ]
  },
  {
   "cell_type": "markdown",
   "metadata": {},
   "source": [
    "---\n",
    "### Solutions"
   ]
  },
  {
   "cell_type": "markdown",
   "metadata": {},
   "source": [
    "1. Example Solution"
   ]
  },
  {
   "cell_type": "code",
   "execution_count": 97,
   "metadata": {},
   "outputs": [
    {
     "name": "stdout",
     "output_type": "stream",
     "text": [
      "Arraylength: 10000 \n",
      " [129.64672818 875.20692818 829.14069297 ... 683.4303797  425.26035366\n",
      " 289.1686562 ]\n"
     ]
    }
   ],
   "source": [
    "#creating array of random number between 0 and 1000\n",
    "#higher bound is excluded, but max float will be infinitisimal close to 1000.\n",
    "one_d_array = np.random.uniform(low=0, high=1000, size=(10000))\n",
    "print('Arraylength:', one_d_array.shape[0],\n",
    "      '\\n',one_d_array)"
   ]
  },
  {
   "cell_type": "markdown",
   "metadata": {},
   "source": [
    "2. Example Solution"
   ]
  },
  {
   "cell_type": "code",
   "execution_count": 98,
   "metadata": {},
   "outputs": [
    {
     "name": "stdout",
     "output_type": "stream",
     "text": [
      "Shape 100x100: (100, 100)\n",
      "Shape 10x10x100: (10, 10, 100)\n"
     ]
    }
   ],
   "source": [
    "#reshape 1\n",
    "hund_by_hund = np.reshape(one_d_array,(100,100))\n",
    "print('Shape 100x100:', hund_by_hund.shape)\n",
    "#reshape 2\n",
    "ten_ten_hund = np.reshape(one_d_array,(10,10,100))\n",
    "print('Shape 10x10x100:', ten_ten_hund.shape)"
   ]
  },
  {
   "cell_type": "markdown",
   "metadata": {},
   "source": [
    "3. Example Solution\n",
    "\n",
    "**Answer**\n",
    "\n",
    "Looks like white noise"
   ]
  },
  {
   "cell_type": "code",
   "execution_count": null,
   "metadata": {},
   "outputs": [],
   "source": [
    "#selecting four of the 10x10 arrays\n",
    "import matplotlib.pyplot as plt\n",
    "%matplotlib inline\n",
    "plot_arrays = ten_ten_hund[:,:,:4]\n",
    "print('Number of 10x10 arrays selected:', plot_arrays.shape[2])\n",
    "\n",
    "plt.subplot(221),plt.title('first array'), plt.imshow(plot_arrays[:,:,0], cmap = 'gray')\n",
    "plt.subplot(222),plt.title('second array'), plt.imshow(plot_arrays[:,:,1], cmap = 'gray')\n",
    "plt.subplot(223),plt.title('third array'), plt.imshow(plot_arrays[:,:,2], cmap = 'gray')\n",
    "plt.subplot(224),plt.title('fourth array'), plt.imshow(plot_arrays[:,:,3], cmap = 'gray')"
   ]
  },
  {
   "cell_type": "code",
   "execution_count": null,
   "metadata": {},
   "outputs": [],
   "source": [
    "#or all in one line\n",
    "plt.subplot(141),plt.title('first array'), plt.imshow(plot_arrays[:,:,0], cmap = 'gray')\n",
    "plt.subplot(142),plt.title('second array'), plt.imshow(plot_arrays[:,:,1], cmap = 'gray')\n",
    "plt.subplot(143),plt.title('third array'), plt.imshow(plot_arrays[:,:,2], cmap = 'gray')\n",
    "plt.subplot(144),plt.title('fourth array'), plt.imshow(plot_arrays[:,:,3], cmap = 'gray')"
   ]
  },
  {
   "cell_type": "markdown",
   "metadata": {},
   "source": [
    "4. Example Solution\n",
    "\n",
    " The `for` loop in the example by default iterates over the first axis, so along the lines. And since the arrays in each iteration therefore have a shape of 10x100 and are added as new lines, the `empty()` function needs a shape of zero lines and 100 columns."
   ]
  },
  {
   "cell_type": "code",
   "execution_count": 99,
   "metadata": {},
   "outputs": [
    {
     "name": "stdout",
     "output_type": "stream",
     "text": [
      "Shape of new array: (100, 100)\n"
     ]
    }
   ],
   "source": [
    "#creating an empty array of size (0,100)\n",
    "new_hund_by_hund = np.empty((0,100), dtype = np.float64)\n",
    "\n",
    "#iterating over the array\n",
    "for array in ten_ten_hund:\n",
    "    new_hund_by_hund = np.concatenate((new_hund_by_hund, array), axis = 0)\n",
    "    \n",
    "print('Shape of new array:', new_hund_by_hund.shape)"
   ]
  },
  {
   "cell_type": "markdown",
   "metadata": {},
   "source": [
    "5. Example Solution\n",
    "\n",
    " For this task it is necessary to first search for the lowest value and,should it be lower than 0, change the values of all items, so the lowest value is 0."
   ]
  },
  {
   "cell_type": "code",
   "execution_count": null,
   "metadata": {},
   "outputs": [],
   "source": [
    "#getting lowest value\n",
    "print('Minium Value of array', np.min(new_hund_by_hund))\n",
    "\n",
    "#get highest value\n",
    "print('Maximum Value of array', np.max(new_hund_by_hund))\n",
    "\n",
    "#normalizing array values --> all values between 0 and 1\n",
    "normalized = new_hund_by_hund/np.max(new_hund_by_hund)\n",
    "print('New Minium Value of array', np.min(normalized))\n",
    "print('New Maximum Value of array', np.max(normalized))\n"
   ]
  },
  {
   "cell_type": "markdown",
   "metadata": {},
   "source": [
    "6. Example Solution"
   ]
  },
  {
   "cell_type": "code",
   "execution_count": null,
   "metadata": {},
   "outputs": [],
   "source": [
    "#selecting area using slicing\n",
    "normalized[10:40,10:30] = 0\n",
    "\n",
    "#plotting array\n",
    "plt.imshow(normalized, cmap = 'gray')"
   ]
  }
 ],
 "metadata": {
  "kernelspec": {
   "display_name": "Python 3",
   "language": "python",
   "name": "python3"
  },
  "language_info": {
   "codemirror_mode": {
    "name": "ipython",
    "version": 3
   },
   "file_extension": ".py",
   "mimetype": "text/x-python",
   "name": "python",
   "nbconvert_exporter": "python",
   "pygments_lexer": "ipython3",
   "version": "3.7.6"
  },
  "varInspector": {
   "cols": {
    "lenName": "16",
    "lenType": 16,
    "lenVar": 40
   },
   "kernels_config": {
    "python": {
     "delete_cmd_postfix": "",
     "delete_cmd_prefix": "del ",
     "library": "var_list.py",
     "varRefreshCmd": "print(var_dic_list())"
    },
    "r": {
     "delete_cmd_postfix": ") ",
     "delete_cmd_prefix": "rm(",
     "library": "var_list.r",
     "varRefreshCmd": "cat(var_dic_list()) "
    }
   },
   "types_to_exclude": [
    "module",
    "function",
    "builtin_function_or_method",
    "instance",
    "_Feature"
   ],
   "window_display": false
  }
 },
 "nbformat": 4,
 "nbformat_minor": 2
}
